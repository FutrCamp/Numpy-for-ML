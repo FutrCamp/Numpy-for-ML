{
  "nbformat": 4,
  "nbformat_minor": 0,
  "metadata": {
    "colab": {
      "name": "#4 Matrices & Arrays",
      "provenance": [],
      "collapsed_sections": []
    },
    "kernelspec": {
      "name": "python3",
      "display_name": "Python 3"
    }
  },
  "cells": [
    {
      "cell_type": "markdown",
      "metadata": {
        "id": "Aa00lqg0kdIb"
      },
      "source": [
        "### Accessing Elements \n",
        "#### Difference between Lists and array"
      ]
    },
    {
      "cell_type": "code",
      "metadata": {
        "id": "QXsByJh9cf7b"
      },
      "source": [
        "import numpy as np"
      ],
      "execution_count": null,
      "outputs": []
    },
    {
      "cell_type": "markdown",
      "metadata": {
        "id": "FycgShxRkgvp"
      },
      "source": [
        "Lists"
      ]
    },
    {
      "cell_type": "code",
      "metadata": {
        "id": "X5Fnk_CmiAgQ",
        "colab": {
          "base_uri": "https://localhost:8080/"
        },
        "outputId": "ddf47e7c-9b23-4c6d-ea41-eff372916208"
      },
      "source": [
        "L = [[1,2],[3,4]]\n",
        "print(L)"
      ],
      "execution_count": null,
      "outputs": [
        {
          "output_type": "stream",
          "text": [
            "[[1, 2], [3, 4]]\n"
          ],
          "name": "stdout"
        }
      ]
    },
    {
      "cell_type": "code",
      "metadata": {
        "colab": {
          "base_uri": "https://localhost:8080/"
        },
        "id": "LWWrNcWQUPnE",
        "outputId": "551ecc0e-654b-4b52-f202-dab6b0e5ebf7"
      },
      "source": [
        "L[0][1]"
      ],
      "execution_count": null,
      "outputs": [
        {
          "output_type": "execute_result",
          "data": {
            "text/plain": [
              "2"
            ]
          },
          "metadata": {
            "tags": []
          },
          "execution_count": 3
        }
      ]
    },
    {
      "cell_type": "markdown",
      "metadata": {
        "id": "-4q01XWIkh_R"
      },
      "source": [
        "Array"
      ]
    },
    {
      "cell_type": "code",
      "metadata": {
        "id": "JVGJKjLOkjGJ"
      },
      "source": [
        "A= np.array([[1,2],[3,4]])"
      ],
      "execution_count": null,
      "outputs": []
    },
    {
      "cell_type": "code",
      "metadata": {
        "colab": {
          "base_uri": "https://localhost:8080/"
        },
        "id": "ZQD8oYq7Uj6c",
        "outputId": "b6cd7337-d334-42e9-c2a6-f1f387d268a1"
      },
      "source": [
        "print(A)"
      ],
      "execution_count": null,
      "outputs": [
        {
          "output_type": "stream",
          "text": [
            "[[1 2]\n",
            " [3 4]]\n"
          ],
          "name": "stdout"
        }
      ]
    },
    {
      "cell_type": "code",
      "metadata": {
        "colab": {
          "base_uri": "https://localhost:8080/"
        },
        "id": "FN16gTdwUqbD",
        "outputId": "f5572ddc-7908-473c-cb52-2d4771bb82f4"
      },
      "source": [
        "A[0][1]"
      ],
      "execution_count": null,
      "outputs": [
        {
          "output_type": "execute_result",
          "data": {
            "text/plain": [
              "2"
            ]
          },
          "metadata": {
            "tags": []
          },
          "execution_count": 7
        }
      ]
    },
    {
      "cell_type": "code",
      "metadata": {
        "colab": {
          "base_uri": "https://localhost:8080/"
        },
        "id": "SnIVQbk0UubT",
        "outputId": "fcc49fb9-9537-412d-c32d-0c479d2f602b"
      },
      "source": [
        "A[0,1]"
      ],
      "execution_count": null,
      "outputs": [
        {
          "output_type": "execute_result",
          "data": {
            "text/plain": [
              "2"
            ]
          },
          "metadata": {
            "tags": []
          },
          "execution_count": 8
        }
      ]
    },
    {
      "cell_type": "code",
      "metadata": {
        "colab": {
          "base_uri": "https://localhost:8080/"
        },
        "id": "LsO6AlRTdk0z",
        "outputId": "c70a2677-37fd-4ea2-81b9-c838be113497"
      },
      "source": [
        "A[:,0]"
      ],
      "execution_count": null,
      "outputs": [
        {
          "output_type": "execute_result",
          "data": {
            "text/plain": [
              "array([1, 1])"
            ]
          },
          "metadata": {
            "tags": []
          },
          "execution_count": 9
        }
      ]
    },
    {
      "cell_type": "markdown",
      "metadata": {
        "id": "ETNRptuek6eK"
      },
      "source": [
        "### Transposing, exponentially raising each element"
      ]
    },
    {
      "cell_type": "code",
      "metadata": {
        "id": "3XkJ5IdHlQBA",
        "colab": {
          "base_uri": "https://localhost:8080/"
        },
        "outputId": "6bdc4cd7-8b8c-4c92-e05e-e2be540e874c"
      },
      "source": [
        "A.T # Transpose"
      ],
      "execution_count": null,
      "outputs": [
        {
          "output_type": "execute_result",
          "data": {
            "text/plain": [
              "array([[1, 3],\n",
              "       [2, 4]])"
            ]
          },
          "metadata": {
            "tags": []
          },
          "execution_count": 12
        }
      ]
    },
    {
      "cell_type": "code",
      "metadata": {
        "id": "nkDzmhGylQsB",
        "colab": {
          "base_uri": "https://localhost:8080/"
        },
        "outputId": "8a126578-0b0c-4241-8330-d00d1048d57e"
      },
      "source": [
        "np.exp(A)"
      ],
      "execution_count": null,
      "outputs": [
        {
          "output_type": "execute_result",
          "data": {
            "text/plain": [
              "array([[ 2.71828183,  7.3890561 ],\n",
              "       [20.08553692, 54.59815003]])"
            ]
          },
          "metadata": {
            "tags": []
          },
          "execution_count": 13
        }
      ]
    },
    {
      "cell_type": "code",
      "metadata": {
        "id": "Vc_gD6tylQoa",
        "colab": {
          "base_uri": "https://localhost:8080/"
        },
        "outputId": "2bb50588-2269-434c-8770-6b7ba8bafa06"
      },
      "source": [
        "np.exp(L)"
      ],
      "execution_count": null,
      "outputs": [
        {
          "output_type": "execute_result",
          "data": {
            "text/plain": [
              "array([[ 2.71828183,  7.3890561 ],\n",
              "       [20.08553692, 54.59815003]])"
            ]
          },
          "metadata": {
            "tags": []
          },
          "execution_count": 14
        }
      ]
    },
    {
      "cell_type": "markdown",
      "metadata": {
        "id": "jVIi7gAhlRCK"
      },
      "source": [
        "### Dot Product, Determinants"
      ]
    },
    {
      "cell_type": "code",
      "metadata": {
        "id": "Td8D2BhvlWuZ",
        "colab": {
          "base_uri": "https://localhost:8080/"
        },
        "outputId": "40d74587-16f7-4eab-8303-927bee06dd1c"
      },
      "source": [
        "A = np.array([[1,2],[3,4]])\n",
        "A"
      ],
      "execution_count": null,
      "outputs": [
        {
          "output_type": "execute_result",
          "data": {
            "text/plain": [
              "array([[1, 2],\n",
              "       [3, 4]])"
            ]
          },
          "metadata": {
            "tags": []
          },
          "execution_count": 55
        }
      ]
    },
    {
      "cell_type": "code",
      "metadata": {
        "id": "BRYJNSM9ldfp"
      },
      "source": [
        "B = np.array([[1,2,3],[4,5,6]])"
      ],
      "execution_count": null,
      "outputs": []
    },
    {
      "cell_type": "code",
      "metadata": {
        "id": "Q4tCXNNaldcx",
        "colab": {
          "base_uri": "https://localhost:8080/"
        },
        "outputId": "10c4392f-86e2-4a5f-9b65-f8c75b7cd531"
      },
      "source": [
        "A.dot(B)"
      ],
      "execution_count": null,
      "outputs": [
        {
          "output_type": "execute_result",
          "data": {
            "text/plain": [
              "array([[ 9, 12, 15],\n",
              "       [19, 26, 33]])"
            ]
          },
          "metadata": {
            "tags": []
          },
          "execution_count": 57
        }
      ]
    },
    {
      "cell_type": "code",
      "metadata": {
        "colab": {
          "base_uri": "https://localhost:8080/",
          "height": 167
        },
        "id": "yvAkrEVUeyVq",
        "outputId": "805b0984-7f88-485d-de53-ab9766958a78"
      },
      "source": [
        "A.dot(B.T)"
      ],
      "execution_count": null,
      "outputs": [
        {
          "output_type": "error",
          "ename": "ValueError",
          "evalue": "ignored",
          "traceback": [
            "\u001b[0;31m---------------------------------------------------------------------------\u001b[0m",
            "\u001b[0;31mValueError\u001b[0m                                Traceback (most recent call last)",
            "\u001b[0;32m<ipython-input-58-80d79729e8e6>\u001b[0m in \u001b[0;36m<module>\u001b[0;34m()\u001b[0m\n\u001b[0;32m----> 1\u001b[0;31m \u001b[0mA\u001b[0m\u001b[0;34m.\u001b[0m\u001b[0mdot\u001b[0m\u001b[0;34m(\u001b[0m\u001b[0mB\u001b[0m\u001b[0;34m.\u001b[0m\u001b[0mT\u001b[0m\u001b[0;34m)\u001b[0m\u001b[0;34m\u001b[0m\u001b[0;34m\u001b[0m\u001b[0m\n\u001b[0m",
            "\u001b[0;31mValueError\u001b[0m: shapes (2,2) and (3,2) not aligned: 2 (dim 1) != 3 (dim 0)"
          ]
        }
      ]
    },
    {
      "cell_type": "code",
      "metadata": {
        "colab": {
          "base_uri": "https://localhost:8080/"
        },
        "id": "I1HsreCpe5_h",
        "outputId": "efd7dc0c-0156-4eab-8113-0269efb81d6b"
      },
      "source": [
        "np.linalg.det(A)"
      ],
      "execution_count": null,
      "outputs": [
        {
          "output_type": "execute_result",
          "data": {
            "text/plain": [
              "-2.0000000000000004"
            ]
          },
          "metadata": {
            "tags": []
          },
          "execution_count": 59
        }
      ]
    },
    {
      "cell_type": "code",
      "metadata": {
        "colab": {
          "base_uri": "https://localhost:8080/"
        },
        "id": "y5TGAbfve905",
        "outputId": "55670e56-7b80-431f-c043-2075593f6bd0"
      },
      "source": [
        "np.linalg.inv(A)"
      ],
      "execution_count": null,
      "outputs": [
        {
          "output_type": "execute_result",
          "data": {
            "text/plain": [
              "array([[-2. ,  1. ],\n",
              "       [ 1.5, -0.5]])"
            ]
          },
          "metadata": {
            "tags": []
          },
          "execution_count": 60
        }
      ]
    },
    {
      "cell_type": "code",
      "metadata": {
        "colab": {
          "base_uri": "https://localhost:8080/"
        },
        "id": "8V6bFDj9p-v9",
        "outputId": "b2602e03-892d-4144-e98d-78ecd7ef7a8f"
      },
      "source": [
        "np.linalg.inv(A).dot(A)"
      ],
      "execution_count": null,
      "outputs": [
        {
          "output_type": "execute_result",
          "data": {
            "text/plain": [
              "array([[1.00000000e+00, 0.00000000e+00],\n",
              "       [1.11022302e-16, 1.00000000e+00]])"
            ]
          },
          "metadata": {
            "tags": []
          },
          "execution_count": 61
        }
      ]
    },
    {
      "cell_type": "code",
      "metadata": {
        "id": "aXN-F2hSqVX-",
        "colab": {
          "base_uri": "https://localhost:8080/"
        },
        "outputId": "201a9d9c-a6ef-433b-c6a4-8bedf31a3718"
      },
      "source": [
        "np.diag(A)"
      ],
      "execution_count": null,
      "outputs": [
        {
          "output_type": "execute_result",
          "data": {
            "text/plain": [
              "array([1, 4])"
            ]
          },
          "metadata": {
            "tags": []
          },
          "execution_count": 62
        }
      ]
    },
    {
      "cell_type": "markdown",
      "metadata": {
        "id": "QUGXn4O1lYua"
      },
      "source": [
        "### Changing Shape of Arrays"
      ]
    },
    {
      "cell_type": "code",
      "metadata": {
        "id": "gTCyFqB-lcPp",
        "colab": {
          "base_uri": "https://localhost:8080/"
        },
        "outputId": "22d32bff-0b17-49b6-99ad-eda201b364f8"
      },
      "source": [
        "a1 =np.array([[1,2],[3,4]])\n",
        "a1"
      ],
      "execution_count": null,
      "outputs": [
        {
          "output_type": "execute_result",
          "data": {
            "text/plain": [
              "array([[1, 2],\n",
              "       [3, 4]])"
            ]
          },
          "metadata": {
            "tags": []
          },
          "execution_count": 25
        }
      ]
    },
    {
      "cell_type": "code",
      "metadata": {
        "id": "8XHTz_JEleAR",
        "colab": {
          "base_uri": "https://localhost:8080/"
        },
        "outputId": "c0da8931-28ba-47ab-eb7f-a58dd212e7f6"
      },
      "source": [
        "a1.resize(1,4)\n",
        "a1"
      ],
      "execution_count": null,
      "outputs": [
        {
          "output_type": "execute_result",
          "data": {
            "text/plain": [
              "array([[1, 2, 3, 4]])"
            ]
          },
          "metadata": {
            "tags": []
          },
          "execution_count": 27
        }
      ]
    },
    {
      "cell_type": "code",
      "metadata": {
        "colab": {
          "base_uri": "https://localhost:8080/"
        },
        "id": "exX5-vlwfiLR",
        "outputId": "d7f63751-8517-44fa-b3be-ecadff0caa07"
      },
      "source": [
        "a1.reshape(2,2)"
      ],
      "execution_count": null,
      "outputs": [
        {
          "output_type": "execute_result",
          "data": {
            "text/plain": [
              "array([[1, 2],\n",
              "       [3, 4]])"
            ]
          },
          "metadata": {
            "tags": []
          },
          "execution_count": 28
        }
      ]
    },
    {
      "cell_type": "markdown",
      "metadata": {
        "id": "hesHCh4jleaR"
      },
      "source": [
        "### Appending & Deleting array elements"
      ]
    },
    {
      "cell_type": "code",
      "metadata": {
        "id": "qDtkimKkljcR",
        "colab": {
          "base_uri": "https://localhost:8080/"
        },
        "outputId": "0b63c220-15bf-4536-a476-02addc9e1c59"
      },
      "source": [
        "A = np.array([1,2,3,4])\n",
        "A"
      ],
      "execution_count": null,
      "outputs": [
        {
          "output_type": "execute_result",
          "data": {
            "text/plain": [
              "array([1, 2, 3, 4])"
            ]
          },
          "metadata": {
            "tags": []
          },
          "execution_count": 48
        }
      ]
    },
    {
      "cell_type": "code",
      "metadata": {
        "colab": {
          "base_uri": "https://localhost:8080/"
        },
        "id": "d8MmZfPjfsWJ",
        "outputId": "9e29dacc-be1d-4d03-fdd5-2a10dfceadc8"
      },
      "source": [
        "np.append(A,[9,10])"
      ],
      "execution_count": null,
      "outputs": [
        {
          "output_type": "execute_result",
          "data": {
            "text/plain": [
              "array([ 1,  2,  3,  4,  9, 10])"
            ]
          },
          "metadata": {
            "tags": []
          },
          "execution_count": 50
        }
      ]
    },
    {
      "cell_type": "code",
      "metadata": {
        "colab": {
          "base_uri": "https://localhost:8080/"
        },
        "id": "1WgCXw7eftNI",
        "outputId": "94525410-3497-426f-d524-f3d002651c45"
      },
      "source": [
        "np.insert(A,1,5)"
      ],
      "execution_count": null,
      "outputs": [
        {
          "output_type": "execute_result",
          "data": {
            "text/plain": [
              "array([1, 5, 2, 3, 4])"
            ]
          },
          "metadata": {
            "tags": []
          },
          "execution_count": 53
        }
      ]
    },
    {
      "cell_type": "code",
      "metadata": {
        "id": "edu8ZMphiTex"
      },
      "source": [
        ""
      ],
      "execution_count": null,
      "outputs": []
    },
    {
      "cell_type": "markdown",
      "metadata": {
        "id": "nibV-ThMh1XR"
      },
      "source": [
        "Deleting"
      ]
    },
    {
      "cell_type": "code",
      "metadata": {
        "colab": {
          "base_uri": "https://localhost:8080/"
        },
        "id": "aPFZaTFcfyeB",
        "outputId": "5ca5a8c9-194d-443b-a894-34592812eb8f"
      },
      "source": [
        "\n",
        "#Working on 1D \n",
        "arr = np.arange(5) \n",
        "print(\"arr : \\n\", arr) \n",
        "print(\"Shape : \", arr.shape) \n",
        "  \n",
        "# deletion from 1D array  \n",
        "  \n",
        "object = 2\n",
        "a = np.delete(arr, object) \n",
        "print(\"\\ndeleteing {} from array : \\n {}\".format(object,a)) \n",
        "print(\"Shape : \", a.shape) \n",
        "  \n",
        "object = [1, 2] \n",
        "b = np.delete(arr, object) \n",
        "print(\"\\ndeleteing {} from array : \\n {}\".format(object,b)) \n",
        "print(\"Shape : \", b.shape) "
      ],
      "execution_count": null,
      "outputs": [
        {
          "output_type": "stream",
          "text": [
            "arr : \n",
            " [0 1 2 3 4]\n",
            "Shape :  (5,)\n",
            "\n",
            "deleteing 2 from array : \n",
            " [0 1 3 4]\n",
            "Shape :  (4,)\n",
            "\n",
            "deleteing [1, 2] from array : \n",
            " [0 3 4]\n",
            "Shape :  (3,)\n"
          ],
          "name": "stdout"
        }
      ]
    },
    {
      "cell_type": "code",
      "metadata": {
        "id": "tjlHE1aIf4aA"
      },
      "source": [
        ""
      ],
      "execution_count": null,
      "outputs": []
    }
  ]
}